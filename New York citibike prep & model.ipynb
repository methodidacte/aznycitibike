{
 "cells": [
  {
   "cell_type": "markdown",
   "metadata": {},
   "source": [
    "# Exploration de données dans un notebook"
   ]
  },
  {
   "cell_type": "code",
   "execution_count": null,
   "metadata": {},
   "outputs": [],
   "source": [
    "# installation d'un nouveau package\n",
    "! pip install azure-storage-blob"
   ]
  },
  {
   "cell_type": "code",
   "execution_count": null,
   "metadata": {},
   "outputs": [],
   "source": [
    "# import des packages nécessaires pour le traitement\n",
    "import os\n",
    "import sys\n",
    "\n",
    "import pandas as pd\n",
    "import numpy as np\n",
    "import matplotlib.pyplot as plt"
   ]
  },
  {
   "cell_type": "code",
   "execution_count": null,
   "metadata": {},
   "outputs": [],
   "source": [
    "from azure.storage.blob import BlockBlobService"
   ]
  },
  {
   "cell_type": "code",
   "execution_count": null,
   "metadata": {},
   "outputs": [],
   "source": [
    "#Get Path for the current folder position and add the following path in parameter.\n",
    "current_path = 'C:/Users/PaulPeton/OneDrive - AZEO/Meetups/Citibike/dataset/JC'\n",
    "globalpath = os.getcwd()+current_path\n",
    "extension = 'csv'\n",
    "\n",
    "#List all files in 'globalpath' and for each files ending with 'extension',\n",
    "# parameter and store the value in 'listfiles'.\n",
    "list_files = [f for f in os.listdir(current_path) if f.endswith(f'.{extension}')]\n",
    "print(list_files)"
   ]
  },
  {
   "cell_type": "code",
   "execution_count": null,
   "metadata": {},
   "outputs": [],
   "source": [
    "# lecture des fichiers d'un compte de stockage Azure\n",
    "block_blob_service = BlockBlobService(\n",
    "    account_name='nycitibikepubstr', account_key='PaP0sDTVDgYpqorHlODYtGhJgQfrZAOR+ZVTOAZdk7EODMUETeeep6oCkO6L0qshFoibB4kbhKbtY4SPVDSA6A==')\n",
    "\n",
    "container_URL = 'https://nycitibikepubstr.blob.core.windows.net/csv'\n",
    "container_name = 'jccsv'"
   ]
  },
  {
   "cell_type": "code",
   "execution_count": null,
   "metadata": {},
   "outputs": [],
   "source": [
    "# Liste des éléments présents dans le container\n",
    "print(\"\\nList blobs in the container\")\n",
    "generator = block_blob_service.list_blobs(container_name)\n",
    "list_files = []\n",
    "\n",
    "for blob in generator:\n",
    "    print(\"\\t Blob name: \" + blob.name)\n",
    "    print(\"\\t File URL: https://nycitibikepubstr.blob.core.windows.net/jccsv/\" + blob.name )\n",
    "    list_files.append(\"https://nycitibikepubstr.blob.core.windows.net/jccsv/\" + blob.name)"
   ]
  },
  {
   "cell_type": "code",
   "execution_count": null,
   "metadata": {},
   "outputs": [],
   "source": [
    "list_files"
   ]
  },
  {
   "cell_type": "code",
   "execution_count": null,
   "metadata": {},
   "outputs": [],
   "source": [
    "# chargement des données externes dans des objets de type pandas DataFrame\n",
    "df = pd.read_csv('https://nycitibikepubstr.blob.core.windows.net/jccsv/JC-201901-citibike-tripdata.csv')"
   ]
  },
  {
   "cell_type": "code",
   "execution_count": null,
   "metadata": {},
   "outputs": [],
   "source": [
    "df.shape"
   ]
  },
  {
   "cell_type": "code",
   "execution_count": null,
   "metadata": {},
   "outputs": [],
   "source": [
    "col_names = ['tripduration','starttime','stoptime','start_station_id','start_station_name','start_station_latitude','start_station_longitude','end_station_id','end_station_name','end_station_latitude','end_station_longitude','bikeid','usertype','year_of_birth','gender']"
   ]
  },
  {
   "cell_type": "code",
   "execution_count": null,
   "metadata": {},
   "outputs": [],
   "source": [
    "# ne marche pas depuis une URL Azure\n",
    "import glob\n",
    "\n",
    "filenames = glob.glob('https://nycitibikepubstr.blob.core.windows.net/jccsv/JC_*.csv')\n",
    "print(filenames)"
   ]
  },
  {
   "cell_type": "code",
   "execution_count": null,
   "metadata": {},
   "outputs": [],
   "source": [
    "df = pd.DataFrame() #columns = col_names\n",
    "total_length = 0\n",
    "\n",
    "for file in list_files:\n",
    "    single_df = pd.read_csv(file) #skiprows=[1], header=None\n",
    "    print(single_df.columns)\n",
    "    print(single_df.shape[0])\n",
    "    total_length = total_length + single_df.shape[0]\n",
    "    df = df.append(single_df)\n",
    "\n",
    "print(total_length)\n",
    "\n",
    "#details = \"Nombre de lignes des fichiers : {0} + {1} + {2}\".format(data_m1.shape[0], data_m2.shape[0], data_m3.shape[0])\n",
    "total = \"\\tVérification du total : {}\".format(df.shape[0])\n",
    "print(total)"
   ]
  },
  {
   "cell_type": "code",
   "execution_count": null,
   "metadata": {},
   "outputs": [],
   "source": [
    "# renommage des colonnes du dataframe\n",
    "df.columns = col_names"
   ]
  },
  {
   "cell_type": "code",
   "execution_count": null,
   "metadata": {},
   "outputs": [],
   "source": [
    "# affichage des premières lignes d'un DataFrame\n",
    "df.head(10)"
   ]
  },
  {
   "cell_type": "code",
   "execution_count": null,
   "metadata": {},
   "outputs": [],
   "source": [
    "# affichage du nombre de valeurs et des types de colonnes au sein de l'objet DataFrame\n",
    "df.info()"
   ]
  },
  {
   "cell_type": "code",
   "execution_count": null,
   "metadata": {},
   "outputs": [],
   "source": [
    "# convertion en dates et vérification du nouveau types des colonnes \n",
    "df['starttime'] = pd.to_datetime(df['starttime'], format='%Y-%m-%d %H:%M:%S')\n",
    "df['stoptime'] = pd.to_datetime(df['stoptime'], format='%Y-%m-%d %H:%M:%S')\n",
    "df.dtypes"
   ]
  },
  {
   "cell_type": "code",
   "execution_count": null,
   "metadata": {},
   "outputs": [],
   "source": [
    "# nouveau contrôle du nombre de valeurs manquantes\n",
    "df.isnull().sum()"
   ]
  },
  {
   "cell_type": "code",
   "execution_count": null,
   "metadata": {},
   "outputs": [],
   "source": [
    "# description statistique des variables (seulement numériques)\n",
    "df[['tripduration','year_of_birth']].describe()"
   ]
  },
  {
   "cell_type": "code",
   "execution_count": null,
   "metadata": {},
   "outputs": [],
   "source": [
    "# durées aberrantes ?\n",
    "df[(df['tripduration']>59) & (df['tripduration']<50*60)].head()"
   ]
  },
  {
   "cell_type": "code",
   "execution_count": null,
   "metadata": {},
   "outputs": [],
   "source": [
    "# histogramme des durées de trajet\n",
    "%matplotlib inline\n",
    "plt.hist('tripduration', bins = 100,  data = df[(df['tripduration']>59) & (df['tripduration']<50*60)])\n",
    "plt.show()"
   ]
  },
  {
   "cell_type": "code",
   "execution_count": null,
   "metadata": {},
   "outputs": [],
   "source": [
    "# On vérifie si la station de départ est différente de la station d'arrivée\n",
    "df[df['start_station_id'] == df['end_station_id']].head()"
   ]
  },
  {
   "cell_type": "code",
   "execution_count": null,
   "metadata": {},
   "outputs": [],
   "source": [
    "# On créer un DataFrame nettoyé\n",
    "df_clean = df[(df['tripduration']>59) & (df['tripduration']<50*60)]\n",
    "print(df_clean.shape)\n",
    "\n",
    "df_clean = df_clean[df_clean['start_station_id'] != df_clean['end_station_id']]\n",
    "print(df_clean.shape)\n",
    "\n",
    "df_clean = df_clean[df_clean['year_of_birth'] != 1888]\n",
    "print(df_clean.shape)"
   ]
  },
  {
   "cell_type": "code",
   "execution_count": null,
   "metadata": {},
   "outputs": [],
   "source": [
    "# comptage des valeurs pour une variable catégorielle\n",
    "df['gender'].value_counts()"
   ]
  },
  {
   "cell_type": "code",
   "execution_count": null,
   "metadata": {},
   "outputs": [],
   "source": [
    "# fréquences relatives pour une variable catégorielle\n",
    "df['gender'].value_counts(normalize=True) #.mul(100).round(1).astype(str) + '%'"
   ]
  },
  {
   "cell_type": "code",
   "execution_count": null,
   "metadata": {},
   "outputs": [],
   "source": [
    "df = df.drop('genderc', axis=1)"
   ]
  },
  {
   "cell_type": "code",
   "execution_count": null,
   "metadata": {},
   "outputs": [],
   "source": [
    "# Renommer les libellés : Zero=unknown; 1=male; 2=female\n",
    "#df['genderc'] = df['gender'].astype(\"category\", ordered = False, labels = ['Unknown','Male','Female'])\n",
    "\n",
    "gender_dict = {'gender': {0: 'unknown', 1: 'male', 2: 'female'}}\n",
    "df['genderc'] = df['gender'].map(gender_dict['gender'])\n",
    "df[['gender','genderc']].head()"
   ]
  },
  {
   "cell_type": "code",
   "execution_count": null,
   "metadata": {},
   "outputs": [],
   "source": [
    "# convertir les catégories en nombres\n",
    "# http://benalexkeen.com/mapping-categorical-data-in-pandas/\n",
    "df['gendern'] = df['genderc'].astype(\"category\", ordered = False, labels = ['Unknown','Male','Female'])\n",
    "df['gendern'].head().cat.codes"
   ]
  },
  {
   "cell_type": "code",
   "execution_count": null,
   "metadata": {},
   "outputs": [],
   "source": [
    "# Opérations inutiles, on supprime les deux colonnes\n",
    "df.drop(['genderc','gendern'], axis=1, inplace=True)\n",
    "df.columns"
   ]
  },
  {
   "cell_type": "code",
   "execution_count": null,
   "metadata": {},
   "outputs": [],
   "source": [
    "# transformer les données 'birth year' et 'gender'\n",
    "df['age'] = 2019 - df['year_of_birth']\n",
    "df[['year_of_birth','age']].head(10)"
   ]
  },
  {
   "cell_type": "code",
   "execution_count": null,
   "metadata": {},
   "outputs": [],
   "source": [
    "df['age'].describe()"
   ]
  },
  {
   "cell_type": "code",
   "execution_count": null,
   "metadata": {},
   "outputs": [],
   "source": [
    "df[df['age']>99]"
   ]
  },
  {
   "cell_type": "code",
   "execution_count": null,
   "metadata": {},
   "outputs": [],
   "source": []
  },
  {
   "cell_type": "code",
   "execution_count": null,
   "metadata": {},
   "outputs": [],
   "source": [
    "# calcul de la distance à vol d'oiseau\n",
    "# https://stackoverflow.com/questions/19412462/getting-distance-between-two-points-based-on-latitude-longitude\n",
    "\n",
    "from math import sin, cos, sqrt, atan2, radians\n",
    "\n",
    "# approximate radius of earth in km\n",
    "R = 6373.0\n",
    "\n",
    "def distance(row):\n",
    "    lat1 = radians(row['start station latitude'])\n",
    "    lon1 = radians(row['start station longitude'])\n",
    "    lat2 = radians(row['end station latitude'])\n",
    "    lon2 = radians(row['end station longitude'])\n",
    "\n",
    "    dlon = lon2 - lon1\n",
    "    dlat = lat2 - lat1\n",
    "\n",
    "    a = sin(dlat / 2)**2 + cos(lat1) * cos(lat2) * sin(dlon / 2)**2\n",
    "    c = 2 * atan2(sqrt(a), sqrt(1 - a))\n",
    "\n",
    "    distance = R * c\n",
    "    \n",
    "    return distance"
   ]
  },
  {
   "cell_type": "code",
   "execution_count": null,
   "metadata": {},
   "outputs": [],
   "source": [
    "# ajout de la colonne distance\n",
    "df['distance'] = df[['start station latitude','start station longitude','end station latitude','end station longitude']].apply(distance, axis = 1)"
   ]
  },
  {
   "cell_type": "code",
   "execution_count": null,
   "metadata": {},
   "outputs": [],
   "source": [
    "# temps moyen de trajet par genre\n",
    "df[['tripduration','gender']].groupby(['gender']).agg(['mean', 'count', 'min', 'max'])"
   ]
  },
  {
   "cell_type": "code",
   "execution_count": null,
   "metadata": {},
   "outputs": [],
   "source": [
    "start_stations = df['start_station_id'].unique()\n",
    "print(sorted(start_stations))"
   ]
  },
  {
   "cell_type": "code",
   "execution_count": null,
   "metadata": {},
   "outputs": [],
   "source": [
    "end_stations = df['end_station_id'].unique()\n",
    "print(sorted(end_stations))"
   ]
  },
  {
   "cell_type": "code",
   "execution_count": null,
   "metadata": {},
   "outputs": [],
   "source": [
    "start_stations.tolist().symmetric_difference(end_stations.tolist())"
   ]
  },
  {
   "cell_type": "code",
   "execution_count": null,
   "metadata": {},
   "outputs": [],
   "source": [
    "np.setdiff1d(start_stations, end_stations)"
   ]
  },
  {
   "cell_type": "code",
   "execution_count": null,
   "metadata": {},
   "outputs": [],
   "source": [
    "np.setdiff1d(end_stations, start_stations)"
   ]
  },
  {
   "cell_type": "code",
   "execution_count": null,
   "metadata": {},
   "outputs": [],
   "source": [
    "start_end_combinaisons = df.groupby(['start_station_id','end_station_id'], as_index=False)['bikeid'].count()\n",
    "# renommer la colonne bikeid\n",
    "start_end_combinaisons.columns = ['start','end','count']\n"
   ]
  },
  {
   "cell_type": "code",
   "execution_count": null,
   "metadata": {},
   "outputs": [],
   "source": [
    "start_end_combinaisons.sort_values(by=['count'], ascending=False)"
   ]
  },
  {
   "cell_type": "code",
   "execution_count": null,
   "metadata": {},
   "outputs": [],
   "source": [
    "# https://www.shanelynn.ie/summarising-aggregation-and-grouping-data-in-python-pandas/\n",
    "start_agg = df.groupby(\n",
    "   ['start_station_id']\n",
    ").agg(\n",
    "    {\n",
    "        'start_station_id': 'count', # get the count of rows \n",
    "        'bikeid' : 'nunique', # get the count of unique values\n",
    "        'tripduration': lambda x : (x - 60).mean(), # mean duration per group\n",
    "        'age': ['mean', 'median', min, max]  # get the mean of age\n",
    "    }\n",
    ")"
   ]
  },
  {
   "cell_type": "code",
   "execution_count": null,
   "metadata": {},
   "outputs": [],
   "source": [
    "start_agg = df.groupby(\n",
    "   ['start_station_id'] # ajouter lat / long end station\n",
    ").agg(\n",
    "        {\n",
    "        'start_station_id' : [('row_count', 'count')],  # get the count of rows \n",
    "        'bikeid' : [('distinct_bike','nunique')], # get the count of unique values\n",
    "        'tripduration' : [('tripinminuts',lambda x : (x / 60).mean())], # mean duration per group\n",
    "        'age': [('age_median','median'), ('age_mean','mean'), ('age_std','std'), ('age_min','min'), ('age_max','max')]\n",
    "        }\n",
    ")"
   ]
  },
  {
   "cell_type": "code",
   "execution_count": null,
   "metadata": {},
   "outputs": [],
   "source": [
    "start_agg.head(10)"
   ]
  },
  {
   "cell_type": "code",
   "execution_count": null,
   "metadata": {},
   "outputs": [],
   "source": [
    "start_agg.columns.values.tolist()"
   ]
  },
  {
   "cell_type": "code",
   "execution_count": null,
   "metadata": {},
   "outputs": [],
   "source": [
    "# le résultat est un dataframe\n",
    "start_agg['tripduration'] = start_agg['tripduration'].round(0)\n",
    "start_agg[('age','age_mean')] = start_agg[('age','age_mean')].round(0)\n",
    "start_agg[('age','age_std')] = start_agg[('age','age_std')].round(1)\n",
    "start_agg.head()"
   ]
  },
  {
   "cell_type": "code",
   "execution_count": null,
   "metadata": {},
   "outputs": [],
   "source": [
    "from sklearn.cluster import KMeans\n",
    "\n",
    "kmeans = KMeans(n_clusters=5, init='k-means++', random_state=0).fit(start_agg)\n",
    "kmeans.labels_"
   ]
  },
  {
   "cell_type": "code",
   "execution_count": null,
   "metadata": {},
   "outputs": [],
   "source": [
    "kmeans.cluster_centers_"
   ]
  },
  {
   "cell_type": "code",
   "execution_count": null,
   "metadata": {},
   "outputs": [],
   "source": [
    "kmeans.predict([[9999,600,40]])"
   ]
  },
  {
   "cell_type": "code",
   "execution_count": null,
   "metadata": {},
   "outputs": [],
   "source": [
    "start_agg['cluster'] = pd.Series(kmeans.labels_, index=start_agg.index)\n",
    "# convertir en catégorie\n",
    "start_agg.sort_values(['cluster']).head()"
   ]
  },
  {
   "cell_type": "code",
   "execution_count": null,
   "metadata": {},
   "outputs": [],
   "source": [
    "start_agg['cluster'].value_counts().sort_index()"
   ]
  },
  {
   "cell_type": "code",
   "execution_count": null,
   "metadata": {},
   "outputs": [],
   "source": [
    "start_agg[start_agg['cluster']==0].describe()\n",
    "# boucler sur chaque cluster"
   ]
  },
  {
   "cell_type": "code",
   "execution_count": null,
   "metadata": {},
   "outputs": [],
   "source": [
    "classes_km = kmeans.labels_\n",
    "plt.figure(figsize=(12,7))\n",
    "\n",
    "markers=[\"+\",\"s\",\"^\",\"v\",\"x\"]\n",
    "for val, mark in zip(np.unique(classes_km), markers):\n",
    "    plt.scatter(start_agg['end station latitude'][classes_km==val], start_agg['end station longitude'][classes_km==val], \\\n",
    "    marker = mark, label = \"classe % i\"%(val))\n",
    "plt.title(\"Clusters on end stations\")\n",
    "plt.legend()"
   ]
  },
  {
   "cell_type": "code",
   "execution_count": null,
   "metadata": {},
   "outputs": [],
   "source": [
    "df['startdate'] = df['starttime'].astype('M8[D]')\n",
    "df['stopdate'] = df['stoptime'].astype('M8[D]')\n",
    "df['startmonth'] = df['starttime'].apply(lambda x : x.month)"
   ]
  },
  {
   "cell_type": "code",
   "execution_count": null,
   "metadata": {},
   "outputs": [],
   "source": [
    "df['startmonth'].value_counts()"
   ]
  },
  {
   "cell_type": "code",
   "execution_count": null,
   "metadata": {},
   "outputs": [],
   "source": [
    "## SERIE TEMPORELLE\n",
    "ts = df.groupby(\n",
    "   ['startmonth','startdate']\n",
    ").agg(\n",
    "    {\n",
    "        'bikeid': 'count', # get the count of rows \n",
    "    })"
   ]
  },
  {
   "cell_type": "code",
   "execution_count": null,
   "metadata": {},
   "outputs": [],
   "source": [
    "# renommer la colonne\n",
    "\n",
    "ts.head()"
   ]
  },
  {
   "cell_type": "code",
   "execution_count": null,
   "metadata": {},
   "outputs": [],
   "source": [
    "ts.plot()"
   ]
  },
  {
   "cell_type": "code",
   "execution_count": null,
   "metadata": {},
   "outputs": [],
   "source": [
    "df_ts = df.groupby(['startmonth','startdate']).size()\n",
    "df_ts = df_ts.reset_index()\n",
    "# renommer la dernière colonne\n",
    "df_ts.rename(columns={ df_ts.columns[2]: \"sharing\" }, inplace = True)\n",
    "df_ts.head()"
   ]
  },
  {
   "cell_type": "code",
   "execution_count": null,
   "metadata": {},
   "outputs": [],
   "source": [
    "# https://towardsdatascience.com/subplots-in-matplotlib-a-guide-and-tool-for-planning-your-plots-7d63fa632857\n",
    "fig, axs = plt.subplots(3, 1, figsize=(15, 9), sharey=True)\n",
    "\n",
    "axs[0].plot(df_ts[df_ts['startmonth']==1][\"startdate\"], df_ts[df_ts['startmonth']==1][\"sharing\"])\n",
    "axs[1].plot(df_ts[df_ts['startmonth']==2][\"startdate\"], df_ts[df_ts['startmonth']==2][\"sharing\"])\n",
    "axs[2].plot(df_ts[df_ts['startmonth']==3][\"startdate\"], df_ts[df_ts['startmonth']==3][\"sharing\"])\n",
    "\n",
    "fig.suptitle('Monthly subplot')"
   ]
  },
  {
   "cell_type": "code",
   "execution_count": null,
   "metadata": {},
   "outputs": [],
   "source": [
    "### PREVISION TEMPORELLE (autoML)"
   ]
  },
  {
   "cell_type": "code",
   "execution_count": null,
   "metadata": {},
   "outputs": [],
   "source": []
  },
  {
   "cell_type": "code",
   "execution_count": null,
   "metadata": {},
   "outputs": [],
   "source": [
    "### REGRESSION DE LA DUREE DU TRAJET"
   ]
  },
  {
   "cell_type": "code",
   "execution_count": null,
   "metadata": {},
   "outputs": [],
   "source": [
    "## régression linéaire"
   ]
  },
  {
   "cell_type": "code",
   "execution_count": null,
   "metadata": {},
   "outputs": [],
   "source": [
    "# scatter plot distance x duration\n",
    "df_clean.plot(kind=\"scatter\", x=\"distance\", y=\"tripduration\", alpha=0.4)\n",
    "plt.show()"
   ]
  },
  {
   "cell_type": "code",
   "execution_count": null,
   "metadata": {},
   "outputs": [],
   "source": [
    "x = df_clean[['distance','age']]\n",
    "y = df_clean['tripduration']\n",
    "print(x.shape)\n",
    "print(y.shape)"
   ]
  },
  {
   "cell_type": "code",
   "execution_count": null,
   "metadata": {},
   "outputs": [],
   "source": [
    "from sklearn.model_selection import train_test_split\n",
    "x_train, x_test, y_train, y_test = train_test_split(x,y,test_size = 0.3)\n",
    "print(x_train.shape)\n",
    "print(x_test.shape)\n",
    "print(y_train.shape)\n",
    "print(y_test.shape)"
   ]
  },
  {
   "cell_type": "code",
   "execution_count": null,
   "metadata": {},
   "outputs": [],
   "source": [
    "# fit (train)\n",
    "from sklearn import linear_model\n",
    "linmodel = linear_model.LinearRegression(fit_intercept=True, normalize=False)\n",
    "linmodel.fit(x_train, y_train)"
   ]
  },
  {
   "cell_type": "code",
   "execution_count": null,
   "metadata": {},
   "outputs": [],
   "source": [
    "# predict\n",
    "y_predict = linmodel.predict(x_test)"
   ]
  },
  {
   "cell_type": "code",
   "execution_count": null,
   "metadata": {},
   "outputs": [],
   "source": [
    "from sklearn.metrics import mean_squared_error\n",
    "from sklearn.metrics import r2_score\n",
    "#from sklearn.metrics import explained_variance_score\n",
    "from sklearn.metrics import median_absolute_error\n",
    "\n",
    "print(\"MCE : \", mean_squared_error(y_test,y_predict))\n",
    "print(\"R2 : \", r2_score(y_test,y_predict))\n",
    "print(\"RMCE : \", np.sqrt(mean_squared_error(y_test,y_predict)))\n",
    "print(\"MAE : \", median_absolute_error(y_test,y_predict))"
   ]
  },
  {
   "cell_type": "code",
   "execution_count": null,
   "metadata": {},
   "outputs": [],
   "source": [
    "# scatter plot des valeurs réelles vs prédites\n",
    "\n",
    "plt.scatter(x_test['distance'], y_test,  color='black')\n",
    "plt.plot(x_test['distance'], y_predict, color='blue', linewidth=3)\n",
    "\n",
    "plt.xticks(())\n",
    "plt.yticks(())\n",
    "\n",
    "plt.show()"
   ]
  },
  {
   "cell_type": "code",
   "execution_count": null,
   "metadata": {},
   "outputs": [],
   "source": [
    "## random forest"
   ]
  },
  {
   "cell_type": "code",
   "execution_count": null,
   "metadata": {},
   "outputs": [],
   "source": [
    "from sklearn.ensemble import RandomForestRegressor\n",
    "rfmodel = RandomForestRegressor(max_depth=5, random_state=0, n_estimators=100)\n",
    "rfmodel.fit(x_train, y_train)\n",
    "y_predict = rfmodel.predict(x_test)\n",
    "\n",
    "print(\"MCE : \", mean_squared_error(y_test,y_predict))\n",
    "print(\"R2 : \", r2_score(y_test,y_predict))\n",
    "print(\"RMCE : \", np.sqrt(mean_squared_error(y_test,y_predict)))\n",
    "print(\"MAE : \", median_absolute_error(y_test,y_predict))"
   ]
  },
  {
   "cell_type": "code",
   "execution_count": null,
   "metadata": {},
   "outputs": [],
   "source": [
    "# validation croisée\n",
    "scores = cross_validate(linmodel, x_train, y_train, cv=3, scoring=('r2', 'neg_mean_squared_error'), return_train_score=True)\n",
    "print(scores['test_neg_mean_squared_error']) "
   ]
  },
  {
   "cell_type": "code",
   "execution_count": null,
   "metadata": {},
   "outputs": [],
   "source": [
    "# recherche des meilleurs hyperparamètres\n",
    "from sklearn.model_selection import GridSearchCV\n",
    "dico_param = {'alpha': [1e-3, 1e-2, 1e-1, 1]}\n",
    "search_hyperp_ridge = GridSearchCV(Ridge(), dico_param, scoring='neg_mean_squared_error', cv = 5)\n",
    "search_hyperp_ridge.fit(x_train, x_train)\n",
    "search_hyperp_ridge.predict(x_test)\n",
    "\n",
    "print(search_hyperp_ridge.best_params_)\n",
    "print(search_hyperp_ridge.best_score_)"
   ]
  },
  {
   "cell_type": "code",
   "execution_count": null,
   "metadata": {},
   "outputs": [],
   "source": [
    "## exporter le meilleur modèle au format pickle"
   ]
  },
  {
   "cell_type": "code",
   "execution_count": null,
   "metadata": {},
   "outputs": [],
   "source": [
    "# enregistrer le modèle au format pickle\n",
    "\n",
    "from sklearn.externals import joblib\n",
    "joblib.dump(linmodel, 'lin_model.pkl')\n",
    "joblib.dump(rfmodel, 'rf_model.pkl')"
   ]
  },
  {
   "cell_type": "code",
   "execution_count": null,
   "metadata": {},
   "outputs": [],
   "source": [
    "# enregistrer le modèle dans Azure Blob Storage\n",
    "\n",
    "block_blob_service = BlockBlobService(\n",
    "    account_name='nycitibikepubstr', account_key='XXX')\n",
    "\n",
    "container_URL = 'https://nycitibikepubstr.blob.core.windows.net/csv'\n",
    "container_name = 'pkl'\n",
    "\n",
    "local_path = os.path.expanduser(\"~\\Documents\")\n",
    "local_file_name = \"lin_model.pkl\"\n",
    "full_path_to_file = os.path.join(local_path, local_file_name)\n",
    "\n",
    "block_blob_service.create_blob_from_path(\n",
    "    container_name, local_file_name, full_path_to_file)\n"
   ]
  }
 ],
 "metadata": {
  "kernelspec": {
   "display_name": "Python 3",
   "language": "python",
   "name": "python3"
  },
  "language_info": {
   "codemirror_mode": {
    "name": "ipython",
    "version": 3
   },
   "file_extension": ".py",
   "mimetype": "text/x-python",
   "name": "python",
   "nbconvert_exporter": "python",
   "pygments_lexer": "ipython3",
   "version": "3.7.3"
  }
 },
 "nbformat": 4,
 "nbformat_minor": 2
}
